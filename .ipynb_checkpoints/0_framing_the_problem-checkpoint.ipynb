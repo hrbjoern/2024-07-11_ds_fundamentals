{
 "cells": [
  {
   "cell_type": "markdown",
   "id": "4c0f59cb-ae46-42c6-8ebe-eca9320e663f",
   "metadata": {},
   "source": [
    "## Framing the Problem"
   ]
  },
  {
   "cell_type": "markdown",
   "id": "1ace3773-3786-4b1a-82dd-6857e07cf05f",
   "metadata": {},
   "source": [
    "![Machine Learning](./images/3_page.jpg)\n",
    "\n",
    "![Example Dataset](./images/4_page.jpg)\n",
    "\n",
    "![Example Dataset](./images/5_page.jpg)\n",
    "\n",
    "![CRISP](./images/6_page.jpg)\n",
    "\n",
    "![DS_PROCESS](./images/7_page.jpg)\n",
    "\n",
    "![DS_LANDSCAPE](./images/8_page.jpg)\n",
    "\n",
    "![framing_the_problem_1](./images/9_page.jpg)\n",
    "\n",
    "![framing_the_problem_2](./images/10_page.jpg)\n",
    "\n",
    "![framing_the_problem_3](./images/11_page.jpg)"
   ]
  },
  {
   "cell_type": "code",
   "execution_count": null,
   "id": "eda334f0-f8b4-4b3b-b20c-1ae78df854ad",
   "metadata": {},
   "outputs": [],
   "source": []
  }
 ],
 "metadata": {
  "kernelspec": {
   "display_name": "Python 3 (ipykernel)",
   "language": "python",
   "name": "python3"
  },
  "language_info": {
   "codemirror_mode": {
    "name": "ipython",
    "version": 3
   },
   "file_extension": ".py",
   "mimetype": "text/x-python",
   "name": "python",
   "nbconvert_exporter": "python",
   "pygments_lexer": "ipython3",
   "version": "3.7.16"
  }
 },
 "nbformat": 4,
 "nbformat_minor": 5
}
