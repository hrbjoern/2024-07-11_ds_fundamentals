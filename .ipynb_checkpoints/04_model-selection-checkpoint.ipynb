{
 "cells": [
  {
   "cell_type": "markdown",
   "metadata": {},
   "source": [
    "# Model selection"
   ]
  },
  {
   "cell_type": "markdown",
   "metadata": {},
   "source": [
    "![DS_Process](./images/28_page.jpg)\n",
    "\n",
    "![data_visualization](./images/29_page.jpg)\n",
    "\n",
    "![data_visualization_2](./images/33_page.jpg)\n",
    "\n",
    "![data_visualization_3](./images/34_page.jpg)\n",
    "\n",
    "![data_visualization_2](./images/35_page.jpg)"
   ]
  },
  {
   "cell_type": "markdown",
   "metadata": {},
   "source": [
    "## Cheat sheet\n",
    "\n",
    "Tables = XGBoost\n",
    "\n",
    "Images = pretrained conv. net\n",
    "\n",
    "Text = TFIDF + XGBoost, transformers, pretrained embeddings\n",
    "\n",
    "Temporal (time series) = classical / XGBoost / recurrent / transformers\n",
    "\n",
    "Geospatial = ? (probably convolution)\n",
    "\n",
    "## Should I use machine learning?\n",
    "\n",
    "First use a manageable set of deterministic rules\n",
    "- understandable, easy to build & maintain, don't need data\n",
    "\n",
    "Then a baseline / naive model\n",
    "- implement first\n",
    "- use for comparison\n",
    "- this can be a feature later on\n",
    "\n",
    "Then increasingly complex models\n",
    "\n",
    "Model development process should be iterative\n",
    "- iterations of minimum viable products that are tested with customers\n",
    "\n",
    "![](assets/iteration.png)\n",
    "\n",
    "[Building Machine Learning Powered Applications](https://www.oreilly.com/library/view/building-machine-learning/9781492045106/) - original drawing from Henrik Kniberg\n",
    "\n",
    "## Model qualities\n",
    "\n",
    "Accuracy\n",
    "\n",
    "Inference time (latency)\n",
    "\n",
    "Ease of implementation\n",
    "- dependenices\n",
    "- GPU\n",
    "\n",
    "Interpretability"
   ]
  },
  {
   "cell_type": "markdown",
   "metadata": {},
   "source": [
    "### References\n",
    "\n",
    "[Lecture 8: Troubleshooting Deep Neural Networks - Full Stack Deep Learning - March 2019](https://youtu.be/GwGTwPcG0YM):\n",
    "    \n",
    "\n",
    "Probably not as important as you think\n",
    "- it is all about the data\n",
    "\n",
    "**Data drives model selection**\n",
    "- key question = what structure does my data have (spatial, temporal)"
   ]
  },
  {
   "cell_type": "code",
   "execution_count": null,
   "metadata": {},
   "outputs": [],
   "source": []
  },
  {
   "cell_type": "code",
   "execution_count": null,
   "metadata": {},
   "outputs": [],
   "source": []
  }
 ],
 "metadata": {
  "kernelspec": {
   "display_name": "Python 3 (ipykernel)",
   "language": "python",
   "name": "python3"
  },
  "language_info": {
   "codemirror_mode": {
    "name": "ipython",
    "version": 3
   },
   "file_extension": ".py",
   "mimetype": "text/x-python",
   "name": "python",
   "nbconvert_exporter": "python",
   "pygments_lexer": "ipython3",
   "version": "3.7.16"
  }
 },
 "nbformat": 4,
 "nbformat_minor": 4
}
